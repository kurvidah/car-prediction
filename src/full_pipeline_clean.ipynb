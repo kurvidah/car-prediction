{
 "cells": [
  {
   "cell_type": "markdown",
   "id": "0d0cd1d0",
   "metadata": {},
   "source": [
    "## 📥 Data Loading"
   ]
  },
  {
   "cell_type": "code",
   "execution_count": 31,
   "id": "1b98dd02",
   "metadata": {},
   "outputs": [],
   "source": [
    "import numpy as np\n",
    "import pandas as pd\n",
    "import warnings\n",
    "warnings.filterwarnings('ignore')\n",
    "\n",
    "df_car_sales = pd.read_csv('../dataset/vehicles.csv')\n",
    "df_car_details = pd.read_json('../dataset/vehicle_details.json')"
   ]
  },
  {
   "cell_type": "code",
   "execution_count": 32,
   "id": "4f7cee50",
   "metadata": {},
   "outputs": [],
   "source": [
    "df = df_car_sales.copy()"
   ]
  },
  {
   "cell_type": "markdown",
   "id": "7d7f4796",
   "metadata": {},
   "source": [
    "## 🔍 Feature Selection"
   ]
  },
  {
   "cell_type": "code",
   "execution_count": 33,
   "id": "777d898c",
   "metadata": {},
   "outputs": [],
   "source": [
    "drop_columns = ['id', 'url', 'region_url', 'VIN', 'image_url', 'description', 'county', 'lat', 'long']\n",
    "\n",
    "df.drop(columns = drop_columns, inplace = True)"
   ]
  },
  {
   "cell_type": "code",
   "execution_count": 34,
   "id": "6f4d5803",
   "metadata": {},
   "outputs": [
    {
     "name": "stdout",
     "output_type": "stream",
     "text": [
      "<class 'pandas.core.frame.DataFrame'>\n",
      "RangeIndex: 426880 entries, 0 to 426879\n",
      "Data columns (total 17 columns):\n",
      " #   Column        Non-Null Count   Dtype  \n",
      "---  ------        --------------   -----  \n",
      " 0   region        426880 non-null  object \n",
      " 1   price         426880 non-null  int64  \n",
      " 2   year          425675 non-null  float64\n",
      " 3   manufacturer  409234 non-null  object \n",
      " 4   model         421603 non-null  object \n",
      " 5   condition     252776 non-null  object \n",
      " 6   cylinders     249202 non-null  object \n",
      " 7   fuel          423867 non-null  object \n",
      " 8   odometer      422480 non-null  float64\n",
      " 9   title_status  418638 non-null  object \n",
      " 10  transmission  424324 non-null  object \n",
      " 11  drive         296313 non-null  object \n",
      " 12  size          120519 non-null  object \n",
      " 13  type          334022 non-null  object \n",
      " 14  paint_color   296677 non-null  object \n",
      " 15  state         426880 non-null  object \n",
      " 16  posting_date  426812 non-null  object \n",
      "dtypes: float64(2), int64(1), object(14)\n",
      "memory usage: 55.4+ MB\n"
     ]
    }
   ],
   "source": [
    "df.info()"
   ]
  },
  {
   "cell_type": "markdown",
   "id": "e85b71d6",
   "metadata": {},
   "source": [
    "### 🕒 Datetime Conversion\n"
   ]
  },
  {
   "cell_type": "code",
   "execution_count": 35,
   "id": "040ab6cb",
   "metadata": {},
   "outputs": [],
   "source": [
    "df[\"posting_date\"] = pd.to_datetime(df[\"posting_date\"], errors=\"coerce\", utc=True)"
   ]
  },
  {
   "cell_type": "markdown",
   "id": "3265fa4e",
   "metadata": {},
   "source": [
    "## 🧼 Data Cleaning Method"
   ]
  },
  {
   "cell_type": "markdown",
   "id": "92077fbc",
   "metadata": {},
   "source": [
    "### 🧹 Cleaning: Drop Rows with Missing Values"
   ]
  },
  {
   "cell_type": "code",
   "execution_count": 36,
   "id": "0daaaa55",
   "metadata": {},
   "outputs": [
    {
     "name": "stdout",
     "output_type": "stream",
     "text": [
      "Remaining records before dropping rows with any NaN >> 426880\n",
      "Remaining records after dropping rows with any NaN >> 79195\n"
     ]
    }
   ],
   "source": [
    "# Drop rows that contain at least one NaN value\n",
    "print(f\"Remaining records before dropping rows with any NaN >> {df.shape[0]}\")\n",
    "df_cleanwdrop = df[df.notna().all(axis=1)]\n",
    "\n",
    "# Show result\n",
    "print(f\"Remaining records after dropping rows with any NaN >> {df_cleanwdrop.shape[0]}\")"
   ]
  },
  {
   "cell_type": "code",
   "execution_count": 37,
   "id": "27abf8f3",
   "metadata": {},
   "outputs": [
    {
     "name": "stdout",
     "output_type": "stream",
     "text": [
      "Total records (after drop null) of df >> 79195\n",
      "Total Duplicated records >> 2\n",
      "Non-Duplicated records >> 79193\n"
     ]
    }
   ],
   "source": [
    "print(f'Total records (after drop null) of df >> {df_cleanwdrop.shape[0]}')\n",
    "print(f'Total Duplicated records >> {df_cleanwdrop.duplicated().sum()}')\n",
    "\n",
    "print(f'Non-Duplicated records >> {df_cleanwdrop.shape[0] - df_cleanwdrop.duplicated().sum()}')"
   ]
  },
  {
   "cell_type": "code",
   "execution_count": 38,
   "id": "10e4a99a",
   "metadata": {},
   "outputs": [],
   "source": [
    "df_cleanwdrop = df_cleanwdrop[~(df_cleanwdrop.duplicated())].copy()"
   ]
  },
  {
   "cell_type": "code",
   "execution_count": 39,
   "id": "553aaa24",
   "metadata": {},
   "outputs": [
    {
     "name": "stdout",
     "output_type": "stream",
     "text": [
      "<class 'pandas.core.frame.DataFrame'>\n",
      "Index: 79193 entries, 31 to 426836\n",
      "Data columns (total 17 columns):\n",
      " #   Column        Non-Null Count  Dtype              \n",
      "---  ------        --------------  -----              \n",
      " 0   region        79193 non-null  object             \n",
      " 1   price         79193 non-null  int64              \n",
      " 2   year          79193 non-null  float64            \n",
      " 3   manufacturer  79193 non-null  object             \n",
      " 4   model         79193 non-null  object             \n",
      " 5   condition     79193 non-null  object             \n",
      " 6   cylinders     79193 non-null  object             \n",
      " 7   fuel          79193 non-null  object             \n",
      " 8   odometer      79193 non-null  float64            \n",
      " 9   title_status  79193 non-null  object             \n",
      " 10  transmission  79193 non-null  object             \n",
      " 11  drive         79193 non-null  object             \n",
      " 12  size          79193 non-null  object             \n",
      " 13  type          79193 non-null  object             \n",
      " 14  paint_color   79193 non-null  object             \n",
      " 15  state         79193 non-null  object             \n",
      " 16  posting_date  79193 non-null  datetime64[ns, UTC]\n",
      "dtypes: datetime64[ns, UTC](1), float64(2), int64(1), object(13)\n",
      "memory usage: 10.9+ MB\n"
     ]
    }
   ],
   "source": [
    "df_cleanwdrop.info()"
   ]
  },
  {
   "cell_type": "markdown",
   "id": "fc893745",
   "metadata": {},
   "source": [
    "### 🧩 Cleaning: Fill Missing Values\n",
    "The `sample_df_sales` may have missing data or information that doesn't match the model of the car. We can fill that information using `df_details`."
   ]
  },
  {
   "cell_type": "code",
   "execution_count": 40,
   "id": "f342b0aa",
   "metadata": {},
   "outputs": [],
   "source": [
    "from fuzzywuzzy import process\n",
    "from tqdm.auto import tqdm\n",
    "import re\n",
    "fuzzy_cache = {}\n",
    "\n",
    "# Use a dictionary to store previously seen matches\n",
    "\n",
    "def get_matched_models(df_data, df_details):\n",
    "    \"\"\"\n",
    "    Perform fuzzy matching to match makes and models between sample_df_sales and df_details.\n",
    "\n",
    "    Parameters:\n",
    "    sample_df_sales (pd.DataFrame): The sales dataframe containing manufacturer and model information.\n",
    "    df_details (pd.DataFrame): The details dataframe containing make and model information.\n",
    "\n",
    "    Returns:\n",
    "    pd.DataFrame: The updated sample_df_sales dataframe with matched_make and matched_model columns.\n",
    "    \"\"\"\n",
    "\n",
    "    def get_closest_match(row, column, choices):\n",
    "        if pd.isnull(row[column]):\n",
    "            return None\n",
    "\n",
    "        value = str(row[column]).strip().lower()\n",
    "\n",
    "        # Remove all non-alphanumeric characters for processing\n",
    "        processed_value = re.sub(r'[^a-z0-9]', '', value)\n",
    "\n",
    "        # If the processed value is empty, skip matching\n",
    "        if not processed_value:\n",
    "            return None\n",
    "\n",
    "        if value in fuzzy_cache:\n",
    "            return fuzzy_cache[value]\n",
    "\n",
    "        match, score = process.extractOne(value, choices)\n",
    "        result = match if score > 80 else None\n",
    "        fuzzy_cache[value] = result\n",
    "        return result\n",
    "\n",
    "    # Apply fuzzy matching for manufacturer first\n",
    "    df_details['make'] = df_details['make'].str.lower()\n",
    "    \n",
    "    # Add a progress bar to the process\n",
    "    tqdm.pandas(desc=\"Matching manufacturers\")\n",
    "    df_data['matched_make'] = df_data.progress_apply(\n",
    "        lambda row: get_closest_match(row, 'manufacturer', df_details['make'].unique()), axis=1\n",
    "    )\n",
    "\n",
    "    # Filter df_details to only include rows with the matched manufacturer\n",
    "    def filter_models(row):\n",
    "        if pd.isnull(row['matched_make']):\n",
    "            return np.array([])  # Return an empty NumPy array\n",
    "        return df_details[df_details['make'] == row['matched_make']]['model'].unique()\n",
    "\n",
    "    # Apply fuzzy matching for model based on the filtered models\n",
    "    def get_closest_model(row):\n",
    "        models = filter_models(row)\n",
    "        if models.size == 0:  # Explicitly check if the array is empty\n",
    "            return None\n",
    "        return get_closest_match(row, 'model', models)\n",
    "\n",
    "    # Add a progress bar to the process\n",
    "    tqdm.pandas(desc=\"Matching models\")\n",
    "    df_data['matched_model'] = df_data.progress_apply(get_closest_model, axis=1)\n",
    "\n",
    "    # Calculate the number of matched and unmatched rows\n",
    "    matched_count = df_data['matched_model'].notnull().sum()\n",
    "    print(f\"Matched: {matched_count} out of {len(df_data)} rows\")\n",
    "\n",
    "    return df_data"
   ]
  },
  {
   "cell_type": "code",
   "execution_count": 41,
   "id": "5d92a482",
   "metadata": {},
   "outputs": [],
   "source": [
    "from sklearn.cluster import KMeans\n",
    "from sklearn.impute import SimpleImputer\n",
    "    \n",
    "def fill_model_deps(data_df, deps):\n",
    "        \"\"\"\n",
    "        Fill missing values in model-dependent columns using the mode of data grouped by various keys.\n",
    "\n",
    "        Parameters:\n",
    "        df (pd.DataFrame): The dataframe to process.\n",
    "        columns (list): List of model-dependent columns to fill.\n",
    "\n",
    "        Returns:\n",
    "        pd.DataFrame: The dataframe with missing values filled.\n",
    "        \"\"\"\n",
    "        # Fill missing values grouped by manufacturer, model, and year\n",
    "        for col in deps:\n",
    "            data_df[col] = data_df.groupby(['manufacturer', 'model', 'year'])[col].transform(\n",
    "                lambda x: x.fillna(x.mode().iloc[0]) if not x.mode().empty else x\n",
    "            )\n",
    "\n",
    "        # Fill missing values grouped by manufacturer and model\n",
    "        for col in deps:\n",
    "            data_df[col] = data_df.groupby(['manufacturer', 'model'])[col].transform(\n",
    "                lambda x: x.fillna(x.mode().iloc[0]) if not x.mode().empty else x\n",
    "            )\n",
    "\n",
    "        # Fill missing values grouped by matched_make, matched_model, and year\n",
    "        for col in deps:\n",
    "            data_df[col] = data_df.groupby(['matched_make', 'matched_model', 'year'])[col].transform(\n",
    "                lambda x: x.fillna(x.mode().iloc[0]) if not x.mode().empty else x\n",
    "            )\n",
    "\n",
    "        # Fill missing values grouped by matched_make and matched_model\n",
    "        for col in deps:\n",
    "            data_df[col] = data_df.groupby(['matched_make', 'matched_model'])[col].transform(\n",
    "                lambda x: x.fillna(x.mode().iloc[0]) if not x.mode().empty else x\n",
    "            )\n",
    "\n",
    "        return data_df\n",
    "    \n",
    "def fill_non_deps(data_df, deps):\n",
    "    # Define model-dependent columns\n",
    "\n",
    "    # Select columns to impute (excluding model-dependent columns)\n",
    "    columns_to_impute = [col for col in data_df.columns if col not in deps]\n",
    "\n",
    "    # Impute missing values using K-Means clustering\n",
    "\n",
    "    # Select numeric columns for clustering\n",
    "    numeric_cols = data_df.select_dtypes(include=[np.number]).columns\n",
    "    data_for_clustering = data_df[numeric_cols]\n",
    "\n",
    "    # Impute missing values with the mean before clustering\n",
    "    imputer = SimpleImputer(strategy='mean')\n",
    "    data_imputed = imputer.fit_transform(data_for_clustering)\n",
    "\n",
    "    # Apply K-Means clustering\n",
    "    kmeans = KMeans(n_clusters=data_df['type'].nunique(), random_state=42)\n",
    "    clusters = kmeans.fit_predict(data_imputed)\n",
    "\n",
    "    # Add cluster labels to the dataframe\n",
    "    data_df['cluster'] = clusters\n",
    "\n",
    "    # Impute missing values in the original dataframe using cluster means\n",
    "    for col in columns_to_impute:\n",
    "        if data_df[col].dtype in [np.float64, np.int64]:  # Numeric columns\n",
    "            data_df[col] = data_df.groupby('cluster')[col].transform(\n",
    "                lambda x: x.fillna(x.mean())\n",
    "            )\n",
    "        elif data_df[col].dtype == object:  # Categorical columns\n",
    "            data_df[col] = data_df.groupby('cluster')[col].transform(\n",
    "                lambda x: x.fillna(x.mode().iloc[0]) if not x.mode().empty else x\n",
    "            )\n",
    "            \n",
    "    # Drop the cluster column\n",
    "    data_df.drop(columns=['cluster'], inplace=True)\n",
    "    \n",
    "    return data_df\n"
   ]
  },
  {
   "cell_type": "code",
   "execution_count": 42,
   "id": "777506e3",
   "metadata": {},
   "outputs": [],
   "source": [
    "def fill_details(df_data, df_details):\n",
    "    \"\"\"\n",
    "    Fill missing values in target columns of df_data using corresponding source columns from df_details,\n",
    "    and analyze categorical columns in the updated dataframe.\n",
    "\n",
    "    Parameters:\n",
    "    df_data (pd.DataFrame): The sales dataframe.\n",
    "    df_details (pd.DataFrame): The details dataframe.\n",
    "    columns_to_fill (dict): A dictionary where keys are target columns in df_data and values are source columns in df_details.\n",
    "\n",
    "    Returns:\n",
    "    pd.DataFrame: The updated dataframe with filled values.\n",
    "    \"\"\"\n",
    "    columns_to_fill = {\n",
    "        'cylinders': 'cylinders_y',\n",
    "        'fuel': 'fueltype1',\n",
    "        'transmission': 'trany',\n",
    "        'type': 'vclass'\n",
    "    }\n",
    "    \n",
    "    # Convert matching columns to lowercase for consistent comparison\n",
    "    df_data['matched_make'] = df_data['matched_make'].str.lower()\n",
    "    df_data['matched_model'] = df_data['matched_model'].str.lower()\n",
    "    df_details['make'] = df_details['make'].str.lower()\n",
    "    df_details['model'] = df_details['model'].str.lower()\n",
    "    \n",
    "    # Merge the dataframes on relevant keys\n",
    "    merged_df = pd.merge(df_data, df_details, how='left', left_on=['matched_make', 'matched_model', 'year'], right_on=['make','model','year'])[columns_to_fill.values()]\n",
    "\n",
    "    # Fill missing values in target columns using corresponding source columns\n",
    "    for target_col, source_col in columns_to_fill.items():\n",
    "        df_data[target_col] = df_data[target_col].fillna(merged_df[source_col])\n",
    "\n",
    "    return df_data"
   ]
  },
  {
   "cell_type": "code",
   "execution_count": 43,
   "id": "226082da",
   "metadata": {},
   "outputs": [],
   "source": [
    "def group_values(df):\n",
    "    \"\"\"\n",
    "    Clean and preprocess specific columns in the dataframe.\n",
    "\n",
    "    Parameters:\n",
    "    df (pd.DataFrame): The dataframe to clean.\n",
    "\n",
    "    Returns:\n",
    "    pd.DataFrame: The cleaned dataframe.\n",
    "    \"\"\"\n",
    "    # Clean the 'cylinders' column to keep only numeric values\n",
    "    df['cylinders'] = df['cylinders'].str.extract(r'(\\d+)').astype('Int64')\n",
    "    df['transmission'] = df['transmission'].str.split(' ').str[0].str.lower()\n",
    "\n",
    "    # Group the 'fuel' column into broader categories\n",
    "    fuel_mapping = {\n",
    "        'gas': 'gasoline',\n",
    "        'Regular Gasoline': 'gasoline',\n",
    "        'Premium Gasoline': 'gasoline',\n",
    "        'Midgrade Gasoline': 'gasoline',\n",
    "        'diesel': 'diesel',\n",
    "        'Diesel': 'diesel',\n",
    "        'electric': 'electricity',\n",
    "        'Electricity': 'electricity',\n",
    "        'hybrid': 'hybrid'\n",
    "    }\n",
    "    df['fuel'] = df['fuel'].map(fuel_mapping).fillna(df['fuel'])\n",
    "\n",
    "    # Group the 'type' column into broader categories\n",
    "    type_mapping = {\n",
    "        'sedan': 'car',\n",
    "        'coupe': 'car',\n",
    "        'convertible': 'car',\n",
    "        'hatchback': 'car',\n",
    "        'wagon': 'car',\n",
    "        'Midsize Cars': 'car',\n",
    "        'Compact Cars': 'car',\n",
    "        'Large Cars': 'car',\n",
    "        'Subcompact Cars': 'car',\n",
    "        'Minicompact Cars': 'car',\n",
    "        'Two Seaters': 'car',\n",
    "        'SUV': 'suv',\n",
    "        'Sport Utility Vehicle - 4WD': 'suv',\n",
    "        'Sport Utility Vehicle - 2WD': 'suv',\n",
    "        'Small Sport Utility Vehicle 4WD': 'suv',\n",
    "        'Small Sport Utility Vehicle 2WD': 'suv',\n",
    "        'Standard Sport Utility Vehicle 4WD': 'suv',\n",
    "        'Standard Sport Utility Vehicle 2WD': 'suv',\n",
    "        'Special Purpose Vehicles': 'suv',\n",
    "        'Special Purpose Vehicle 4WD': 'suv',\n",
    "        'Special Purpose Vehicle 2WD': 'suv',\n",
    "        'offroad': 'suv',\n",
    "        'pickup': 'truck',\n",
    "        'truck': 'truck',\n",
    "        'Standard Pickup Trucks 4WD': 'truck',\n",
    "        'Standard Pickup Trucks 2WD': 'truck',\n",
    "        'Small Pickup Trucks 4WD': 'truck',\n",
    "        'Small Pickup Trucks 2WD': 'truck',\n",
    "        'Small Pickup Trucks': 'truck',\n",
    "        'Standard Pickup Trucks': 'truck',\n",
    "        'mini-van': 'van',\n",
    "        'van': 'van',\n",
    "        'bus': 'van',\n",
    "        'Minivan - 2WD': 'van',\n",
    "        'Minivan - 4WD': 'van',\n",
    "        'Vans': 'van',\n",
    "        'Vans, Cargo Type': 'van',\n",
    "        'Vans, Passenger Type': 'van',\n",
    "        'Small Station Wagons': 'car',\n",
    "        'Midsize Station Wagons': 'car'\n",
    "    }\n",
    "    df['type'] = df['type'].map(type_mapping).fillna(df['type'])\n",
    "\n",
    "    return df"
   ]
  },
  {
   "cell_type": "code",
   "execution_count": 44,
   "id": "a285c839",
   "metadata": {},
   "outputs": [],
   "source": [
    "\n",
    "def clean_data(df_data, df_details):\n",
    "    \"\"\"\n",
    "    Clean the sales and details dataframes by removing rows with missing values\n",
    "    and resetting the index.\n",
    "\n",
    "    Parameters:\n",
    "    df_data (pd.DataFrame): The sales dataframe.\n",
    "    df_details (pd.DataFrame): The details dataframe.\n",
    "\n",
    "    Returns:\n",
    "    pd.DataFrame, pd.DataFrame: The cleaned sales and details dataframes.\n",
    "    \"\"\"\n",
    "    \n",
    "    # Select relevant columns\n",
    "    df_data, df_details = df, df_car_details\n",
    "    # Replace 'other' values with NaN\n",
    "    df_data.replace('other', np.nan, inplace=True)\n",
    "    \n",
    "    # Merge the dataframes to get more details\n",
    "    df_data = get_matched_models(df_data, df_details)\n",
    "    df_data = df_data[~df_data['matched_make'].isnull() & ~df_data['matched_model'].isnull()]\n",
    "    \n",
    "    # model_dependent_columns = ['cylinders', 'fuel', 'transmission', 'drive', 'size', 'type']\n",
    "    model_dependent_columns = df_data\n",
    "    \n",
    "    # Fill model dependent values using df_details\n",
    "    df_data = fill_details(df_data, df_details)\n",
    "    df_data = group_values(df_data)\n",
    "\n",
    "    # Fill model dependent values using modes of each model\n",
    "    df_data = fill_model_deps(df_data, model_dependent_columns)\n",
    "    \n",
    "    df_data = df_data.dropna()\n",
    "    \n",
    "    return df_data"
   ]
  },
  {
   "cell_type": "code",
   "execution_count": 45,
   "id": "b4772ab5",
   "metadata": {},
   "outputs": [
    {
     "data": {
      "application/vnd.jupyter.widget-view+json": {
       "model_id": "4e4cdaba149843dfa6c80d11bb3ff41e",
       "version_major": 2,
       "version_minor": 0
      },
      "text/plain": [
       "Matching manufacturers:   0%|          | 0/426880 [00:00<?, ?it/s]"
      ]
     },
     "metadata": {},
     "output_type": "display_data"
    },
    {
     "data": {
      "application/vnd.jupyter.widget-view+json": {
       "model_id": "9de547848f8b466a8c4a54605626471e",
       "version_major": 2,
       "version_minor": 0
      },
      "text/plain": [
       "Matching models:   0%|          | 0/426880 [00:00<?, ?it/s]"
      ]
     },
     "metadata": {},
     "output_type": "display_data"
    },
    {
     "name": "stdout",
     "output_type": "stream",
     "text": [
      "Matched: 379521 out of 426880 rows\n"
     ]
    }
   ],
   "source": [
    "df_cleanwfill = clean_data(df, df_car_details)"
   ]
  },
  {
   "cell_type": "code",
   "execution_count": 46,
   "id": "e58fb300",
   "metadata": {},
   "outputs": [
    {
     "name": "stdout",
     "output_type": "stream",
     "text": [
      "Remaining records before fill with stat >> 426880\n",
      "Remaining records after fill with stat >> 374817\n"
     ]
    }
   ],
   "source": [
    "# Drop rows that contain at least one NaN value\n",
    "print(f\"Remaining records before fill with stat >> {df.shape[0]}\")\n",
    "\n",
    "# Show result\n",
    "print(f\"Remaining records after fill with stat >> {df_cleanwfill.shape[0]}\")"
   ]
  },
  {
   "cell_type": "code",
   "execution_count": 47,
   "id": "475138ab",
   "metadata": {},
   "outputs": [
    {
     "name": "stdout",
     "output_type": "stream",
     "text": [
      "Total records (after fill stat) of df >> 374817\n",
      "Total Duplicated records >> 26\n",
      "Non-Duplicated records >> 374791\n"
     ]
    }
   ],
   "source": [
    "print(f'Total records (after fill stat) of df >> {df_cleanwfill.shape[0]}')\n",
    "print(f'Total Duplicated records >> {df_cleanwfill.duplicated().sum()}')\n",
    "\n",
    "print(f'Non-Duplicated records >> {df_cleanwfill.shape[0] - df_cleanwfill.duplicated().sum()}')"
   ]
  },
  {
   "cell_type": "code",
   "execution_count": 48,
   "id": "a278940b",
   "metadata": {},
   "outputs": [],
   "source": [
    "df_cleanwfill = df_cleanwfill[~(df_cleanwfill.duplicated())].copy()"
   ]
  },
  {
   "cell_type": "code",
   "execution_count": 49,
   "id": "0d4da627",
   "metadata": {},
   "outputs": [
    {
     "name": "stdout",
     "output_type": "stream",
     "text": [
      "<class 'pandas.core.frame.DataFrame'>\n",
      "Index: 374791 entries, 27 to 426879\n",
      "Data columns (total 19 columns):\n",
      " #   Column         Non-Null Count   Dtype              \n",
      "---  ------         --------------   -----              \n",
      " 0   region         374791 non-null  object             \n",
      " 1   price          374791 non-null  float64            \n",
      " 2   year           374791 non-null  float64            \n",
      " 3   manufacturer   374791 non-null  object             \n",
      " 4   model          374791 non-null  object             \n",
      " 5   condition      374791 non-null  object             \n",
      " 6   cylinders      374791 non-null  Int64              \n",
      " 7   fuel           374791 non-null  object             \n",
      " 8   odometer       374791 non-null  float64            \n",
      " 9   title_status   374791 non-null  object             \n",
      " 10  transmission   374791 non-null  object             \n",
      " 11  drive          374791 non-null  object             \n",
      " 12  size           374791 non-null  object             \n",
      " 13  type           374791 non-null  object             \n",
      " 14  paint_color    374791 non-null  object             \n",
      " 15  state          374791 non-null  object             \n",
      " 16  posting_date   374791 non-null  datetime64[ns, UTC]\n",
      " 17  matched_make   374791 non-null  object             \n",
      " 18  matched_model  374791 non-null  object             \n",
      "dtypes: Int64(1), datetime64[ns, UTC](1), float64(3), object(14)\n",
      "memory usage: 57.5+ MB\n"
     ]
    }
   ],
   "source": [
    "df_cleanwfill.info()"
   ]
  },
  {
   "cell_type": "code",
   "execution_count": 50,
   "id": "64d1dbae",
   "metadata": {},
   "outputs": [],
   "source": [
    "df_cleanwfill.to_csv('../dataset/cleanedwfill_sales_data.csv', index=False)\n",
    "df_cleanwdrop.to_csv('../dataset/cleanedwdrop_sales_data.csv', index=False)"
   ]
  },
  {
   "cell_type": "code",
   "execution_count": 51,
   "id": "27e4806c",
   "metadata": {},
   "outputs": [
    {
     "data": {
      "image/png": "[encoded data removed]",
      "text/plain": [
       "<Figure size 1000x600 with 1 Axes>"
      ]
     },
     "metadata": {},
     "output_type": "display_data"
    }
   ],
   "source": [
    "import matplotlib.pyplot as plt\n",
    "\n",
    "# Total original rows\n",
    "total_rows = df_car_sales.shape[0]\n",
    "\n",
    "# Row counts\n",
    "rows_original = df_car_sales.shape[0]\n",
    "rows_drop = df_cleanwdrop.shape[0]\n",
    "rows_fill = df_cleanwfill.shape[0]\n",
    "\n",
    "# Calculate dropped rows\n",
    "dropped_drop = total_rows - rows_drop\n",
    "dropped_fill = total_rows - rows_fill\n",
    "\n",
    "# Data for plotting\n",
    "methods = ['Original', 'Drop NaNs', 'Fill with Stats']\n",
    "retained = [rows_original, rows_drop, rows_fill]\n",
    "dropped = [0, dropped_drop, dropped_fill]\n",
    "\n",
    "# Plot\n",
    "plt.figure(figsize=(10, 6))\n",
    "bar_width = 0.4\n",
    "bar_positions = range(len(methods))\n",
    "\n",
    "bars_retained = plt.bar(bar_positions, retained, label='Retained Rows', color='#191970', width=bar_width)\n",
    "bars_dropped = plt.bar(bar_positions, dropped, bottom=retained, label='Dropped Rows', color='#87ceeb', width=bar_width)\n",
    "\n",
    "# Decorations\n",
    "plt.title('Dataset Size Comparison by Cleaning Method', fontsize=14, fontweight='bold')\n",
    "plt.ylabel('Number of Rows', fontsize=12)\n",
    "plt.xticks(bar_positions, methods, fontsize=10)\n",
    "plt.yticks(fontsize=10)\n",
    "plt.legend(fontsize=10)\n",
    "plt.grid(axis='y', linestyle='--', alpha=0.7)\n",
    "\n",
    "# Add row counts under each bar\n",
    "for i, method in enumerate(methods):\n",
    "    total = retained[i] + dropped[i]\n",
    "    plt.text(i, -0.09 * total_rows, f'Retained: {retained[i]}\\nDropped: {dropped[i]}',\n",
    "             ha='center', va='top', fontsize=9, color='black')\n",
    "\n",
    "plt.tight_layout()\n",
    "plt.ylim(0, total_rows * 1.2)  # Adds 10% space above the tallest bar\n",
    "plt.show()"
   ]
  }
 ],
 "metadata": {
  "kernelspec": {
   "display_name": "cuda-gpt",
   "language": "python",
   "name": "cuda"
  },
  "language_info": {
   "codemirror_mode": {
    "name": "ipython",
    "version": 3
   },
   "file_extension": ".py",
   "mimetype": "text/x-python",
   "name": "python",
   "nbconvert_exporter": "python",
   "pygments_lexer": "ipython3",
   "version": "3.12.6"
  }
 },
 "nbformat": 4,
 "nbformat_minor": 5
}
