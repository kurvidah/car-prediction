{
 "cells": [
  {
   "cell_type": "code",
   "execution_count": null,
   "metadata": {},
   "outputs": [],
   "source": [
    "import numpy as np\n",
    "import pandas as pd\n",
    "\n",
    "df_sales = pd.read_csv('../dataset/vehicles.csv')\n",
    "df_details = pd.read_csv('../dataset/vehicle_details.csv')"
   ]
  },
  {
   "cell_type": "code",
   "execution_count": null,
   "metadata": {},
   "outputs": [],
   "source": [
    "from fuzzywuzzy import process\n",
    "\n",
    "# Drop unnecessary columns\n",
    "sales_df.drop(columns=['id', 'url', 'region_url', 'image_url', 'description'], inplace=True, errors='ignore')\n",
    "\n",
    "# Select only relevant columns\n",
    "detail_df = detail_df[['make', 'model', 'year', 'cylinders',\n",
    "                       'engine displacement', 'drive', 'fuel type1', 'vehicle size class']]\n",
    "\n",
    "# Remove rows with suspicious values\n",
    "sales_df = sales_df[sales_df['price'] > 2000]\n",
    "print(\"Minimum Price of the Car is\", sales_df['price'].min())\n",
    "print(\"Maximum Price of the Car is\", sales_df['price'].max())\n",
    "\n",
    "sales_df = sales_df[sales_df['year'] > 1990]\n",
    "print(\"Minimum Year of the Car is\", sales_df['year'].min())\n",
    "\n",
    "# Impute missing values\n",
    "sales_df['lat'].fillna(sales_df['lat'].dropna().mean(), inplace=True)\n",
    "sales_df['long'].fillna(sales_df['long'].dropna().mean(), inplace=True)\n",
    "\n",
    "# Merge sales_df with detail_df using fuzzy matching for make and model\n",
    "# Use a dictionary to store previously seen matches\n",
    "match_cache = {}\n",
    "\n",
    "def get_closest_match(row, column, choices):\n",
    "    if pd.isnull(row[column]):\n",
    "        return None\n",
    "    value = row[column]\n",
    "    if value in match_cache:\n",
    "        return match_cache[value]\n",
    "    match, score = process.extractOne(value, choices)\n",
    "    result = match if score > 80 else None\n",
    "    \n",
    "    if score <= 80 :\n",
    "        print(f\"Value: {value}, Match: {match}, Score: {score}\")\n",
    "    match_cache[value] = result\n",
    "    return result\n",
    "\n",
    "# Apply fuzzy matching for manufacturer first\n",
    "detail_df['make'] = detail_df['make'].str.lower()\n",
    "sales_df['matched_make'] = sales_df.apply(get_closest_match, axis=1, column='manufacturer', choices=detail_df['make'].unique())\n",
    "\n",
    "# Filter detail_df to only include rows with the matched manufacturer\n",
    "def filter_models(row):\n",
    "    if pd.isnull(row['matched_make']):\n",
    "        return np.array([])  # Return an empty NumPy array\n",
    "    return detail_df[detail_df['make'] == row['matched_make']]['model'].unique()\n",
    "\n",
    "# Apply fuzzy matching for model based on the filtered models\n",
    "def get_closest_model(row):\n",
    "    models = filter_models(row)\n",
    "    if models.size == 0:  # Explicitly check if the array is empty\n",
    "        return None\n",
    "    return get_closest_match(row, 'model', models)\n",
    "\n",
    "sales_df['matched_model'] = sales_df.apply(get_closest_model, axis=1)"
   ]
  },
  {
   "cell_type": "code",
   "execution_count": null,
   "metadata": {},
   "outputs": [],
   "source": []
  }
 ],
 "metadata": {
  "kernelspec": {
   "display_name": "data-sci",
   "language": "python",
   "name": "python3"
  },
  "language_info": {
   "name": "python",
   "version": "3.13.2"
  }
 },
 "nbformat": 4,
 "nbformat_minor": 2
}
