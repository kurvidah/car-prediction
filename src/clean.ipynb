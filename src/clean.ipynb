{
 "cells": [
  {
   "cell_type": "code",
   "execution_count": 66,
   "metadata": {},
   "outputs": [],
   "source": [
    "import numpy as np\n",
    "import pandas as pd\n",
    "\n",
    "df_sales = pd.read_csv('../dataset/vehicles.csv')\n",
    "df_details = pd.read_json('../dataset/vehicle_details.json')"
   ]
  },
  {
   "cell_type": "code",
   "execution_count": 70,
   "metadata": {},
   "outputs": [],
   "source": [
    "# Pick a small sample of the data for testing\n",
    "df_sales = df_sales.sample(n=500, random_state=42).reset_index(drop=True)"
   ]
  },
  {
   "cell_type": "markdown",
   "metadata": {},
   "source": [
    "## #1 - Select relevant columns\n",
    "We start by selecting only the relevant columns from the `df_sales` and `df_details` dataframes. This step ensures that we focus on the necessary information for further processing and analysis. Irrelevant or redundant columns are dropped to streamline the workflow and reduce memory usage."
   ]
  },
  {
   "cell_type": "code",
   "execution_count": 72,
   "metadata": {},
   "outputs": [],
   "source": [
    "# Data preprocessing\n",
    "df_sales = df_sales.drop(columns=['id', 'url', 'region_url', 'VIN', 'image_url',\n",
    "              'description', 'county', 'lat', 'long', 'size'], errors='ignore')\n",
    "\n",
    "df_details = df_details[['make', 'model', 'year', 'cylinders',\n",
    "                         'displ', 'drive', 'fueltype1', 'vclass']]\n",
    "\n",
    "# Remove rows with suspicious values\n",
    "df_sales = df_sales[df_sales['price'] > 1000] # Remove rows with price less than 1000\n",
    "df_sales = df_sales[df_sales['year'] > 1990] # Remove rows with year less than 1990"
   ]
  },
  {
   "cell_type": "markdown",
   "metadata": {},
   "source": [
    "## #2 - Fill the car details with actual data\n",
    "The `df_sales` may have missing data or information that doesn't match the model of the car. We can fill that information using `df_details`."
   ]
  },
  {
   "cell_type": "code",
   "execution_count": 73,
   "metadata": {},
   "outputs": [
    {
     "name": "stdout",
     "output_type": "stream",
     "text": [
      "Matched: 465 out of 500 rows\n"
     ]
    }
   ],
   "source": [
    "from fuzzywuzzy import process\n",
    "\n",
    "# Merge df_sales with df_details using fuzzy matching for make and model\n",
    "# Use a dictionary to store previously seen matches\n",
    "match_cache = {}\n",
    "\n",
    "def get_closest_match(row, column, choices):\n",
    "    if pd.isnull(row[column]):\n",
    "        return None\n",
    "    value = row[column]\n",
    "    if value in match_cache:\n",
    "        return match_cache[value]\n",
    "    match, score = process.extractOne(value, choices)\n",
    "    result = match if score > 80 else None\n",
    "    \n",
    "    # if score <= 80 :\n",
    "        # print(f\"Value: {value}, Match: {match}, Score: {score}\")\n",
    "    match_cache[value] = result\n",
    "    return result\n",
    "\n",
    "# Apply fuzzy matching for manufacturer first\n",
    "df_details['make'] = df_details['make'].str.lower()\n",
    "df_sales['matched_make'] = df_sales.apply(get_closest_match, axis=1, column='manufacturer', choices=df_details['make'].unique())\n",
    "\n",
    "# Filter df_details to only include rows with the matched manufacturer\n",
    "def filter_models(row):\n",
    "    if pd.isnull(row['matched_make']):\n",
    "        return np.array([])  # Return an empty NumPy array\n",
    "    return df_details[df_details['make'] == row['matched_make']]['model'].unique()\n",
    "\n",
    "# Apply fuzzy matching for model based on the filtered models\n",
    "def get_closest_model(row):\n",
    "    models = filter_models(row)\n",
    "    if models.size == 0:  # Explicitly check if the array is empty\n",
    "        return None\n",
    "    return get_closest_match(row, 'model', models)\n",
    "\n",
    "df_sales['matched_model'] = df_sales.apply(get_closest_model, axis=1)\n",
    "# Calculate the number of matched and unmatched rows\n",
    "\n",
    "matched_count = df_sales['matched_model'].notnull().sum()\n",
    "print(f\"Matched: {matched_count} out of {len(df_sales)} rows\")\n",
    "\n",
    "df_sales = df_sales[df_sales['matched_model'].notnull()]\n",
    "\n",
    "# Replace or add the listed columns from df_details to df_sales\n",
    "columns_to_replace = {\n",
    "    'year': 'year',\n",
    "    'cylinders': 'cylinders',\n",
    "    'displ': 'engine_displacement',\n",
    "    'drive': 'drive',\n",
    "    'fueltype1': 'fuel',\n",
    "    'vclass': 'type'\n",
    "}\n",
    "\n",
    "for details_col, sales_col in columns_to_replace.items():\n",
    "    df_sales[sales_col] = df_sales.apply(\n",
    "        lambda row: df_details.loc[\n",
    "            (df_details['make'] == row['matched_make']) &\n",
    "            (df_details['model'] == row['matched_model']),\n",
    "            details_col\n",
    "        ].iloc[0] if not pd.isnull(row['matched_make']) and not pd.isnull(row['matched_model']) else row[sales_col],\n",
    "        axis=1\n",
    "    )\n",
    "\n",
    "# Replace the model and make with matched_model and matched_make\n",
    "df_sales['model'] = df_sales['matched_model']\n",
    "df_sales['make'] = df_sales['matched_make']\n",
    "\n",
    "# Drop the matched columns\n",
    "df_sales = df_sales.drop(columns=['matched_make', 'matched_model'], errors='ignore')"
   ]
  },
  {
   "cell_type": "code",
   "execution_count": 75,
   "metadata": {},
   "outputs": [
    {
     "name": "stdout",
     "output_type": "stream",
     "text": [
      "<class 'pandas.core.frame.DataFrame'>\n",
      "Index: 465 entries, 0 to 499\n",
      "Data columns (total 18 columns):\n",
      " #   Column               Non-Null Count  Dtype  \n",
      "---  ------               --------------  -----  \n",
      " 0   region               465 non-null    object \n",
      " 1   price                465 non-null    int64  \n",
      " 2   year                 465 non-null    int64  \n",
      " 3   manufacturer         465 non-null    object \n",
      " 4   model                465 non-null    object \n",
      " 5   condition            289 non-null    object \n",
      " 6   cylinders            434 non-null    float64\n",
      " 7   fuel                 465 non-null    object \n",
      " 8   odometer             456 non-null    float64\n",
      " 9   title_status         459 non-null    object \n",
      " 10  transmission         464 non-null    object \n",
      " 11  drive                461 non-null    object \n",
      " 12  type                 465 non-null    object \n",
      " 13  paint_color          321 non-null    object \n",
      " 14  state                465 non-null    object \n",
      " 15  posting_date         465 non-null    object \n",
      " 16  engine_displacement  434 non-null    float64\n",
      " 17  make                 465 non-null    object \n",
      "dtypes: float64(3), int64(2), object(13)\n",
      "memory usage: 69.0+ KB\n"
     ]
    }
   ],
   "source": [
    "df_sales.info()"
   ]
  },
  {
   "cell_type": "markdown",
   "metadata": {},
   "source": [
    "## #3 - Replace the unknowns\n",
    "In this step, we handle missing values in the `df_sales` dataframe. Numeric columns are filled with `-1` to indicate missing data, while categorical columns are filled with the string `'unknown'`. This ensures that the dataset is complete and ready for further analysis or modeling without introducing biases due to missing values."
   ]
  },
  {
   "cell_type": "code",
   "execution_count": 76,
   "metadata": {},
   "outputs": [],
   "source": [
    "# Fill missing numeric values with -1\n",
    "numeric_columns = df_sales.select_dtypes(include=['float64', 'int64']).columns\n",
    "df_sales[numeric_columns] = df_sales[numeric_columns].fillna(-1)\n",
    "\n",
    "# Fill missing categorical values with 'unknown'\n",
    "categorical_columns = df_sales.select_dtypes(include=['object']).columns\n",
    "df_sales[categorical_columns] = df_sales[categorical_columns].fillna('unknown')"
   ]
  },
  {
   "cell_type": "code",
   "execution_count": 78,
   "metadata": {},
   "outputs": [
    {
     "name": "stdout",
     "output_type": "stream",
     "text": [
      "<class 'pandas.core.frame.DataFrame'>\n",
      "Index: 465 entries, 0 to 499\n",
      "Data columns (total 18 columns):\n",
      " #   Column               Non-Null Count  Dtype  \n",
      "---  ------               --------------  -----  \n",
      " 0   region               465 non-null    object \n",
      " 1   price                465 non-null    int64  \n",
      " 2   year                 465 non-null    int64  \n",
      " 3   manufacturer         465 non-null    object \n",
      " 4   model                465 non-null    object \n",
      " 5   condition            465 non-null    object \n",
      " 6   cylinders            465 non-null    float64\n",
      " 7   fuel                 465 non-null    object \n",
      " 8   odometer             465 non-null    float64\n",
      " 9   title_status         465 non-null    object \n",
      " 10  transmission         465 non-null    object \n",
      " 11  drive                465 non-null    object \n",
      " 12  type                 465 non-null    object \n",
      " 13  paint_color          465 non-null    object \n",
      " 14  state                465 non-null    object \n",
      " 15  posting_date         465 non-null    object \n",
      " 16  engine_displacement  465 non-null    float64\n",
      " 17  make                 465 non-null    object \n",
      "dtypes: float64(3), int64(2), object(13)\n",
      "memory usage: 69.0+ KB\n"
     ]
    }
   ],
   "source": [
    "df_sales.info()"
   ]
  }
 ],
 "metadata": {
  "kernelspec": {
   "display_name": "data-analysis",
   "language": "python",
   "name": "python3"
  },
  "language_info": {
   "codemirror_mode": {
    "name": "ipython",
    "version": 3
   },
   "file_extension": ".py",
   "mimetype": "text/x-python",
   "name": "python",
   "nbconvert_exporter": "python",
   "pygments_lexer": "ipython3",
   "version": "3.12.4"
  }
 },
 "nbformat": 4,
 "nbformat_minor": 2
}
